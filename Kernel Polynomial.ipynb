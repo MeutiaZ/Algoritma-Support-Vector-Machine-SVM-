{
  "nbformat": 4,
  "nbformat_minor": 0,
  "metadata": {
    "colab": {
      "name": "PolynomialTanpaCFS78(50:50).ipynb",
      "provenance": []
    },
    "kernelspec": {
      "display_name": "Python 3",
      "name": "python3"
    }
  },
  "cells": [
    {
      "cell_type": "code",
      "metadata": {
        "id": "RpYmYQtgWh4h"
      },
      "source": [
        "import pandas as pd"
      ],
      "execution_count": null,
      "outputs": []
    },
    {
      "cell_type": "code",
      "metadata": {
        "id": "vpeTlXoMWsxf"
      },
      "source": [
        "data7=pd.read_csv(\"/content/drive/MyDrive/Data Meutia/Malware/mirai_mal_CC_all_ISCX.csv\")\n",
        "data8=pd.read_csv(\"/content/drive/MyDrive/Data Meutia/Malware/mirai_mal_CC_fan_ISCX.csv\")\n",
        "data9=pd.read_csv(\"/content/drive/MyDrive/Data Meutia/Malware/mirai_mal_CC_light_ISCX.csv\")\n",
        "data10=pd.read_csv(\"/content/drive/MyDrive/Data Meutia/Malware/mirai_mal_CC_lock_ISCX.csv\")\n",
        "data11=pd.read_csv(\"/content/drive/MyDrive/Data Meutia/Malware/mirai_mal_CC_switch_ISCX.csv\")\n",
        "data12=pd.read_csv(\"/content/drive/MyDrive/Data Meutia/Malware/mirai_mal_spread_all_ISCX.csv\")\n",
        "data13=pd.read_csv(\"/content/drive/MyDrive/Data Meutia/Malware/mirai_mal_spread_fan_ISCX.csv\")\n",
        "data14=pd.read_csv(\"/content/drive/MyDrive/Data Meutia/Malware/mirai_mal_spread_light_ISCX.csv\")\n",
        "data15=pd.read_csv(\"/content/drive/MyDrive/Data Meutia/Malware/mirai_mal_spread_lock_ISCX.csv\")\n",
        "data16=pd.read_csv(\"/content/drive/MyDrive/Data Meutia/Malware/mirai_mal_spread_switch_ISCX.csv\")\n",
        "data17=pd.read_csv(\"/content/drive/MyDrive/Data Meutia/Malware/torii_mal_all_ISCX.csv\")\n",
        "data18=pd.read_csv(\"/content/drive/MyDrive/Data Meutia/Malware/torii_mal_fan_ISCX.csv\")\n",
        "data19=pd.read_csv(\"/content/drive/MyDrive/Data Meutia/Malware/torii_mal_light_ISCX.csv\")\n",
        "data20=pd.read_csv(\"/content/drive/MyDrive/Data Meutia/Malware/torii_mal_lock_ISCX.csv\")\n",
        "data21=pd.read_csv(\"/content/drive/MyDrive/Data Meutia/Malware/torii_mal_raspberry1_ISCX.csv\")\n",
        "data22=pd.read_csv(\"/content/drive/MyDrive/Data Meutia/Malware/torii_mal_raspberry2_ISCX.csv\")\n",
        "data23=pd.read_csv(\"/content/drive/MyDrive/Data Meutia/Malware/torii_mal_switch_ISCX.csv\")"
      ],
      "execution_count": null,
      "outputs": []
    },
    {
      "cell_type": "code",
      "metadata": {
        "id": "czbTdgeUWwkT"
      },
      "source": [
        "dataseta=pd.concat([data8,data9,data10,data11,data12,data13,data14,data15,data16,data17,data18,data19,data20,data21,data22,data23])"
      ],
      "execution_count": null,
      "outputs": []
    },
    {
      "cell_type": "code",
      "metadata": {
        "id": "PXDzgVPnW0Zw"
      },
      "source": [
        "datad=pd.read_csv(\"/content/drive/MyDrive/Data Meutia/Normal/mirai_leg_fan_ISCX.csv\")\n",
        "datae=pd.read_csv(\"/content/drive/MyDrive/Data Meutia/Normal/mirai_leg_light_ISCX.csv\")\n",
        "dataf=pd.read_csv(\"/content/drive/MyDrive/Data Meutia/Normal/mirai_leg_lock_ISCX.csv\")\n",
        "datag=pd.read_csv(\"/content/drive/MyDrive/Data Meutia/Normal/mirai_leg_switch_ISCX.csv\")\n",
        "datah=pd.read_csv(\"/content/drive/MyDrive/Data Meutia/Normal/torii_leg_fan_ISCX.csv\")\n",
        "datai=pd.read_csv(\"/content/drive/MyDrive/Data Meutia/Normal/torii_leg_light_ISCX.csv\")\n",
        "dataj=pd.read_csv(\"/content/drive/MyDrive/Data Meutia/Normal/torii_leg_lock_ISCX.csv\")\n",
        "datak=pd.read_csv(\"/content/drive/MyDrive/Data Meutia/Normal/torii_leg_raspberry1_ISCX.csv\")\n",
        "datal=pd.read_csv(\"/content/drive/MyDrive/Data Meutia/Normal/torii_leg_raspberry2_ISCX.csv\")\n",
        "datam=pd.read_csv(\"/content/drive/MyDrive/Data Meutia/Normal/torii_leg_switch_ISCX.csv\")"
      ],
      "execution_count": null,
      "outputs": []
    },
    {
      "cell_type": "code",
      "metadata": {
        "id": "rxQY6z1sW3VF"
      },
      "source": [
        "datasetb=pd.concat([datad,datae,dataf,datag,datah,datai,dataj,datak,datal,datam])"
      ],
      "execution_count": null,
      "outputs": []
    },
    {
      "cell_type": "code",
      "metadata": {
        "id": "beVZF-kLW8tN"
      },
      "source": [
        "#Perubahan Label 1 = Malware, 0 = Normal\n",
        "datamalware = dataseta.replace(to_replace = [\"No Label\"],value = 1)\n",
        "datanormal = datasetb.replace(to_replace = [\"No Label\"],value = 0)"
      ],
      "execution_count": null,
      "outputs": []
    },
    {
      "cell_type": "code",
      "metadata": {
        "id": "9Omqpa1VW9zR"
      },
      "source": [
        "datafix=pd.concat([datamalware,datanormal])"
      ],
      "execution_count": null,
      "outputs": []
    },
    {
      "cell_type": "code",
      "metadata": {
        "id": "iB8TOrZv6SvF",
        "colab": {
          "base_uri": "https://localhost:8080/"
        },
        "outputId": "6135b4fa-2bd8-4748-d4f4-195edb96c579"
      },
      "source": [
        "datafix.isnull().any().sum()"
      ],
      "execution_count": null,
      "outputs": [
        {
          "output_type": "execute_result",
          "data": {
            "text/plain": [
              "1"
            ]
          },
          "metadata": {
            "tags": []
          },
          "execution_count": 8
        }
      ]
    },
    {
      "cell_type": "code",
      "metadata": {
        "id": "EH-g661b6Uhq"
      },
      "source": [
        "datafix=datafix.fillna(datafix.mean)"
      ],
      "execution_count": null,
      "outputs": []
    },
    {
      "cell_type": "code",
      "metadata": {
        "id": "R_sdTooT6DA-"
      },
      "source": [
        "##import numpy as np\n",
        "##datafix=datafix.astype(object).replace(np.nan, 'None')"
      ],
      "execution_count": null,
      "outputs": []
    },
    {
      "cell_type": "code",
      "metadata": {
        "colab": {
          "base_uri": "https://localhost:8080/"
        },
        "id": "tlgpS_4kXJHI",
        "outputId": "bba05d63-3db9-4355-ed11-f239ba00a860"
      },
      "source": [
        "datafix.isnull().any().sum()"
      ],
      "execution_count": null,
      "outputs": [
        {
          "output_type": "execute_result",
          "data": {
            "text/plain": [
              "0"
            ]
          },
          "metadata": {
            "tags": []
          },
          "execution_count": 11
        }
      ]
    },
    {
      "cell_type": "code",
      "metadata": {
        "colab": {
          "base_uri": "https://localhost:8080/"
        },
        "id": "FOTroyaBBZjG",
        "outputId": "63fd60b9-81e2-4f9a-e2f5-ea821f0b739b"
      },
      "source": [
        "datafix.info()"
      ],
      "execution_count": null,
      "outputs": [
        {
          "output_type": "stream",
          "text": [
            "<class 'pandas.core.frame.DataFrame'>\n",
            "Int64Index: 312114 entries, 0 to 5362\n",
            "Data columns (total 84 columns):\n",
            " #   Column             Non-Null Count   Dtype  \n",
            "---  ------             --------------   -----  \n",
            " 0   Flow ID            312114 non-null  object \n",
            " 1   Src IP             312114 non-null  object \n",
            " 2   Src Port           312114 non-null  int64  \n",
            " 3   Dst IP             312114 non-null  object \n",
            " 4   Dst Port           312114 non-null  int64  \n",
            " 5   Protocol           312114 non-null  int64  \n",
            " 6   Timestamp          312114 non-null  object \n",
            " 7   Flow Duration      312114 non-null  int64  \n",
            " 8   Tot Fwd Pkts       312114 non-null  int64  \n",
            " 9   Tot Bwd Pkts       312114 non-null  int64  \n",
            " 10  TotLen Fwd Pkts    312114 non-null  float64\n",
            " 11  TotLen Bwd Pkts    312114 non-null  float64\n",
            " 12  Fwd Pkt Len Max    312114 non-null  float64\n",
            " 13  Fwd Pkt Len Min    312114 non-null  float64\n",
            " 14  Fwd Pkt Len Mean   312114 non-null  float64\n",
            " 15  Fwd Pkt Len Std    312114 non-null  float64\n",
            " 16  Bwd Pkt Len Max    312114 non-null  float64\n",
            " 17  Bwd Pkt Len Min    312114 non-null  float64\n",
            " 18  Bwd Pkt Len Mean   312114 non-null  float64\n",
            " 19  Bwd Pkt Len Std    312114 non-null  float64\n",
            " 20  Flow Byts/s        312114 non-null  object \n",
            " 21  Flow Pkts/s        312114 non-null  float64\n",
            " 22  Flow IAT Mean      312114 non-null  float64\n",
            " 23  Flow IAT Std       312114 non-null  float64\n",
            " 24  Flow IAT Max       312114 non-null  float64\n",
            " 25  Flow IAT Min       312114 non-null  float64\n",
            " 26  Fwd IAT Tot        312114 non-null  float64\n",
            " 27  Fwd IAT Mean       312114 non-null  float64\n",
            " 28  Fwd IAT Std        312114 non-null  float64\n",
            " 29  Fwd IAT Max        312114 non-null  float64\n",
            " 30  Fwd IAT Min        312114 non-null  float64\n",
            " 31  Bwd IAT Tot        312114 non-null  float64\n",
            " 32  Bwd IAT Mean       312114 non-null  float64\n",
            " 33  Bwd IAT Std        312114 non-null  float64\n",
            " 34  Bwd IAT Max        312114 non-null  float64\n",
            " 35  Bwd IAT Min        312114 non-null  float64\n",
            " 36  Fwd PSH Flags      312114 non-null  int64  \n",
            " 37  Bwd PSH Flags      312114 non-null  int64  \n",
            " 38  Fwd URG Flags      312114 non-null  int64  \n",
            " 39  Bwd URG Flags      312114 non-null  int64  \n",
            " 40  Fwd Header Len     312114 non-null  int64  \n",
            " 41  Bwd Header Len     312114 non-null  int64  \n",
            " 42  Fwd Pkts/s         312114 non-null  float64\n",
            " 43  Bwd Pkts/s         312114 non-null  float64\n",
            " 44  Pkt Len Min        312114 non-null  float64\n",
            " 45  Pkt Len Max        312114 non-null  float64\n",
            " 46  Pkt Len Mean       312114 non-null  float64\n",
            " 47  Pkt Len Std        312114 non-null  float64\n",
            " 48  Pkt Len Var        312114 non-null  float64\n",
            " 49  FIN Flag Cnt       312114 non-null  int64  \n",
            " 50  SYN Flag Cnt       312114 non-null  int64  \n",
            " 51  RST Flag Cnt       312114 non-null  int64  \n",
            " 52  PSH Flag Cnt       312114 non-null  int64  \n",
            " 53  ACK Flag Cnt       312114 non-null  int64  \n",
            " 54  URG Flag Cnt       312114 non-null  int64  \n",
            " 55  CWE Flag Count     312114 non-null  int64  \n",
            " 56  ECE Flag Cnt       312114 non-null  int64  \n",
            " 57  Down/Up Ratio      312114 non-null  float64\n",
            " 58  Pkt Size Avg       312114 non-null  float64\n",
            " 59  Fwd Seg Size Avg   312114 non-null  float64\n",
            " 60  Bwd Seg Size Avg   312114 non-null  float64\n",
            " 61  Fwd Byts/b Avg     312114 non-null  int64  \n",
            " 62  Fwd Pkts/b Avg     312114 non-null  int64  \n",
            " 63  Fwd Blk Rate Avg   312114 non-null  int64  \n",
            " 64  Bwd Byts/b Avg     312114 non-null  int64  \n",
            " 65  Bwd Pkts/b Avg     312114 non-null  int64  \n",
            " 66  Bwd Blk Rate Avg   312114 non-null  int64  \n",
            " 67  Subflow Fwd Pkts   312114 non-null  int64  \n",
            " 68  Subflow Fwd Byts   312114 non-null  int64  \n",
            " 69  Subflow Bwd Pkts   312114 non-null  int64  \n",
            " 70  Subflow Bwd Byts   312114 non-null  int64  \n",
            " 71  Init Fwd Win Byts  312114 non-null  int64  \n",
            " 72  Init Bwd Win Byts  312114 non-null  int64  \n",
            " 73  Fwd Act Data Pkts  312114 non-null  int64  \n",
            " 74  Fwd Seg Size Min   312114 non-null  int64  \n",
            " 75  Active Mean        312114 non-null  float64\n",
            " 76  Active Std         312114 non-null  float64\n",
            " 77  Active Max         312114 non-null  float64\n",
            " 78  Active Min         312114 non-null  float64\n",
            " 79  Idle Mean          312114 non-null  float64\n",
            " 80  Idle Std           312114 non-null  float64\n",
            " 81  Idle Max           312114 non-null  float64\n",
            " 82  Idle Min           312114 non-null  float64\n",
            " 83  Label              312114 non-null  int64  \n",
            "dtypes: float64(44), int64(35), object(5)\n",
            "memory usage: 202.4+ MB\n"
          ],
          "name": "stdout"
        }
      ]
    },
    {
      "cell_type": "code",
      "metadata": {
        "id": "ePq9KpTU6mVA"
      },
      "source": [
        "datafix.drop(['Flow ID','Src IP','Dst IP','Timestamp','Flow Byts/s'], axis = 1, inplace=True)"
      ],
      "execution_count": null,
      "outputs": []
    },
    {
      "cell_type": "code",
      "metadata": {
        "colab": {
          "base_uri": "https://localhost:8080/"
        },
        "id": "co574UfIXQuA",
        "outputId": "c6346141-812c-4b8e-a9b7-d00da02ea9a4"
      },
      "source": [
        "datafix.info()"
      ],
      "execution_count": null,
      "outputs": [
        {
          "output_type": "stream",
          "text": [
            "<class 'pandas.core.frame.DataFrame'>\n",
            "Int64Index: 312114 entries, 0 to 5362\n",
            "Data columns (total 79 columns):\n",
            " #   Column             Non-Null Count   Dtype  \n",
            "---  ------             --------------   -----  \n",
            " 0   Src Port           312114 non-null  int64  \n",
            " 1   Dst Port           312114 non-null  int64  \n",
            " 2   Protocol           312114 non-null  int64  \n",
            " 3   Flow Duration      312114 non-null  int64  \n",
            " 4   Tot Fwd Pkts       312114 non-null  int64  \n",
            " 5   Tot Bwd Pkts       312114 non-null  int64  \n",
            " 6   TotLen Fwd Pkts    312114 non-null  float64\n",
            " 7   TotLen Bwd Pkts    312114 non-null  float64\n",
            " 8   Fwd Pkt Len Max    312114 non-null  float64\n",
            " 9   Fwd Pkt Len Min    312114 non-null  float64\n",
            " 10  Fwd Pkt Len Mean   312114 non-null  float64\n",
            " 11  Fwd Pkt Len Std    312114 non-null  float64\n",
            " 12  Bwd Pkt Len Max    312114 non-null  float64\n",
            " 13  Bwd Pkt Len Min    312114 non-null  float64\n",
            " 14  Bwd Pkt Len Mean   312114 non-null  float64\n",
            " 15  Bwd Pkt Len Std    312114 non-null  float64\n",
            " 16  Flow Pkts/s        312114 non-null  float64\n",
            " 17  Flow IAT Mean      312114 non-null  float64\n",
            " 18  Flow IAT Std       312114 non-null  float64\n",
            " 19  Flow IAT Max       312114 non-null  float64\n",
            " 20  Flow IAT Min       312114 non-null  float64\n",
            " 21  Fwd IAT Tot        312114 non-null  float64\n",
            " 22  Fwd IAT Mean       312114 non-null  float64\n",
            " 23  Fwd IAT Std        312114 non-null  float64\n",
            " 24  Fwd IAT Max        312114 non-null  float64\n",
            " 25  Fwd IAT Min        312114 non-null  float64\n",
            " 26  Bwd IAT Tot        312114 non-null  float64\n",
            " 27  Bwd IAT Mean       312114 non-null  float64\n",
            " 28  Bwd IAT Std        312114 non-null  float64\n",
            " 29  Bwd IAT Max        312114 non-null  float64\n",
            " 30  Bwd IAT Min        312114 non-null  float64\n",
            " 31  Fwd PSH Flags      312114 non-null  int64  \n",
            " 32  Bwd PSH Flags      312114 non-null  int64  \n",
            " 33  Fwd URG Flags      312114 non-null  int64  \n",
            " 34  Bwd URG Flags      312114 non-null  int64  \n",
            " 35  Fwd Header Len     312114 non-null  int64  \n",
            " 36  Bwd Header Len     312114 non-null  int64  \n",
            " 37  Fwd Pkts/s         312114 non-null  float64\n",
            " 38  Bwd Pkts/s         312114 non-null  float64\n",
            " 39  Pkt Len Min        312114 non-null  float64\n",
            " 40  Pkt Len Max        312114 non-null  float64\n",
            " 41  Pkt Len Mean       312114 non-null  float64\n",
            " 42  Pkt Len Std        312114 non-null  float64\n",
            " 43  Pkt Len Var        312114 non-null  float64\n",
            " 44  FIN Flag Cnt       312114 non-null  int64  \n",
            " 45  SYN Flag Cnt       312114 non-null  int64  \n",
            " 46  RST Flag Cnt       312114 non-null  int64  \n",
            " 47  PSH Flag Cnt       312114 non-null  int64  \n",
            " 48  ACK Flag Cnt       312114 non-null  int64  \n",
            " 49  URG Flag Cnt       312114 non-null  int64  \n",
            " 50  CWE Flag Count     312114 non-null  int64  \n",
            " 51  ECE Flag Cnt       312114 non-null  int64  \n",
            " 52  Down/Up Ratio      312114 non-null  float64\n",
            " 53  Pkt Size Avg       312114 non-null  float64\n",
            " 54  Fwd Seg Size Avg   312114 non-null  float64\n",
            " 55  Bwd Seg Size Avg   312114 non-null  float64\n",
            " 56  Fwd Byts/b Avg     312114 non-null  int64  \n",
            " 57  Fwd Pkts/b Avg     312114 non-null  int64  \n",
            " 58  Fwd Blk Rate Avg   312114 non-null  int64  \n",
            " 59  Bwd Byts/b Avg     312114 non-null  int64  \n",
            " 60  Bwd Pkts/b Avg     312114 non-null  int64  \n",
            " 61  Bwd Blk Rate Avg   312114 non-null  int64  \n",
            " 62  Subflow Fwd Pkts   312114 non-null  int64  \n",
            " 63  Subflow Fwd Byts   312114 non-null  int64  \n",
            " 64  Subflow Bwd Pkts   312114 non-null  int64  \n",
            " 65  Subflow Bwd Byts   312114 non-null  int64  \n",
            " 66  Init Fwd Win Byts  312114 non-null  int64  \n",
            " 67  Init Bwd Win Byts  312114 non-null  int64  \n",
            " 68  Fwd Act Data Pkts  312114 non-null  int64  \n",
            " 69  Fwd Seg Size Min   312114 non-null  int64  \n",
            " 70  Active Mean        312114 non-null  float64\n",
            " 71  Active Std         312114 non-null  float64\n",
            " 72  Active Max         312114 non-null  float64\n",
            " 73  Active Min         312114 non-null  float64\n",
            " 74  Idle Mean          312114 non-null  float64\n",
            " 75  Idle Std           312114 non-null  float64\n",
            " 76  Idle Max           312114 non-null  float64\n",
            " 77  Idle Min           312114 non-null  float64\n",
            " 78  Label              312114 non-null  int64  \n",
            "dtypes: float64(44), int64(35)\n",
            "memory usage: 190.5 MB\n"
          ],
          "name": "stdout"
        }
      ]
    },
    {
      "cell_type": "code",
      "metadata": {
        "id": "DM0M2ddxXXKs"
      },
      "source": [
        "from sklearn.utils import shuffle\n",
        "datafix = shuffle(datafix)"
      ],
      "execution_count": null,
      "outputs": []
    },
    {
      "cell_type": "code",
      "metadata": {
        "colab": {
          "base_uri": "https://localhost:8080/",
          "height": 351
        },
        "id": "qi0qXxx-XZhT",
        "outputId": "1aa3d263-555f-452c-d408-42e75cb63f94"
      },
      "source": [
        "import seaborn as sns\n",
        "sns.countplot(datafix['Label'])"
      ],
      "execution_count": null,
      "outputs": [
        {
          "output_type": "stream",
          "text": [
            "/usr/local/lib/python3.7/dist-packages/seaborn/_decorators.py:43: FutureWarning: Pass the following variable as a keyword arg: x. From version 0.12, the only valid positional argument will be `data`, and passing other arguments without an explicit keyword will result in an error or misinterpretation.\n",
            "  FutureWarning\n"
          ],
          "name": "stderr"
        },
        {
          "output_type": "execute_result",
          "data": {
            "text/plain": [
              "<matplotlib.axes._subplots.AxesSubplot at 0x7fbdb2ae5590>"
            ]
          },
          "metadata": {
            "tags": []
          },
          "execution_count": 16
        },
        {
          "output_type": "display_data",
          "data": {
            "image/png": "[encoded data removed]",
            "text/plain": [
              "<Figure size 432x288 with 1 Axes>"
            ]
          },
          "metadata": {
            "tags": [],
            "needs_background": "light"
          }
        }
      ]
    },
    {
      "cell_type": "code",
      "metadata": {
        "id": "XPvMjlQSXcEz"
      },
      "source": [
        "from sklearn.preprocessing import LabelEncoder\n",
        "enc = LabelEncoder()\n",
        "datafix = datafix.apply(enc.fit_transform)"
      ],
      "execution_count": null,
      "outputs": []
    },
    {
      "cell_type": "code",
      "metadata": {
        "id": "Z_DaWTj2XetL"
      },
      "source": [
        "#Pemisahan Data (Feature dan Label)\n",
        "x=datafix.iloc[:,0:77].values\n",
        "y=datafix.iloc[:,78].values"
      ],
      "execution_count": null,
      "outputs": []
    },
    {
      "cell_type": "code",
      "metadata": {
        "colab": {
          "base_uri": "https://localhost:8080/"
        },
        "id": "ZLnH2fanXjln",
        "outputId": "92ff981f-c138-4663-c8d3-6b3ab10a7c48"
      },
      "source": [
        "#Feature Scaling\n",
        "import numpy as np\n",
        "from sklearn.preprocessing import MinMaxScaler\n",
        "#Define MinMax Scaler\n",
        "scaler = MinMaxScaler()\n",
        "#Transform Data\n",
        "scaled = scaler.fit_transform(x)\n",
        "print(scaled)"
      ],
      "execution_count": null,
      "outputs": [
        {
          "output_type": "stream",
          "text": [
            "[[0.71152528 0.00854701 0.5        ... 0.68057868 0.         0.66537456]\n",
            " [0.41251636 0.00210578 0.5        ... 0.         0.         0.        ]\n",
            " [0.89341146 0.00854701 0.5        ... 0.71998967 0.         0.70569407]\n",
            " ...\n",
            " [0.3049305  0.00854701 0.5        ... 0.69088352 0.         0.67591695]\n",
            " [0.89316213 0.00854701 0.5        ... 0.62908319 0.         0.61269198]\n",
            " [0.39500093 0.00854701 0.5        ... 0.78606694 0.         0.77329457]]\n"
          ],
          "name": "stdout"
        }
      ]
    },
    {
      "cell_type": "code",
      "metadata": {
        "colab": {
          "base_uri": "https://localhost:8080/"
        },
        "id": "K07gtfpHXktt",
        "outputId": "71e68e63-9b1a-415c-aafe-c1df6cf2fc16"
      },
      "source": [
        "#Training dan Testing\n",
        "from sklearn.model_selection import train_test_split\n",
        "#Split data set in train 50% and test 50%\n",
        "X_train, X_test, y_train, y_test = train_test_split(scaled, y, test_size=0.5, random_state=0)\n",
        "X_train.shape, y_train.shape, X_test.shape, y_test.shape"
      ],
      "execution_count": null,
      "outputs": [
        {
          "output_type": "execute_result",
          "data": {
            "text/plain": [
              "((156057, 77), (156057,), (156057, 77), (156057,))"
            ]
          },
          "metadata": {
            "tags": []
          },
          "execution_count": 20
        }
      ]
    },
    {
      "cell_type": "code",
      "metadata": {
        "id": "sDVmZeMX6-Zw"
      },
      "source": [
        "#Import svm model\n",
        "from sklearn import svm\n",
        "\n",
        "#Import svm model\n",
        "from sklearn.svm import SVC\n",
        "  \n",
        "# defining parameter range \n",
        "clf = svm.SVC(kernel='poly', degree=4)\n",
        "\n",
        "#Train the model using the training sets\n",
        "clf.fit(X_train, y_train)\n",
        "\n",
        "#Predict the response for test dataset\n",
        "y_pred = clf.predict(X_test)"
      ],
      "execution_count": null,
      "outputs": []
    },
    {
      "cell_type": "code",
      "metadata": {
        "colab": {
          "base_uri": "https://localhost:8080/"
        },
        "id": "Cd1v-BQrg1E9",
        "outputId": "74aa09be-8f50-478e-f730-ec44f1023bd9"
      },
      "source": [
        "from sklearn import metrics\n",
        "cm = metrics.confusion_matrix(y_test, y_pred)\n",
        "print(cm)\n",
        "tp = cm[0,0]\n",
        "tn = cm[1,1]\n",
        "fp = cm[0,1]\n",
        "fn = cm[1,0]"
      ],
      "execution_count": null,
      "outputs": [
        {
          "output_type": "stream",
          "text": [
            "[[98069   212]\n",
            " [   58 57718]]\n"
          ],
          "name": "stdout"
        }
      ]
    },
    {
      "cell_type": "code",
      "metadata": {
        "colab": {
          "base_uri": "https://localhost:8080/",
          "height": 55
        },
        "id": "PE5Tc4XHg6wy",
        "outputId": "6bb99d4d-e879-4019-cd5e-1881cdfe83c4"
      },
      "source": [
        "import seaborn as sns\n",
        "import matplotlib.pyplot as plt\n",
        "f, ax = plt.subplots(figsize=(8,5))\n",
        "sns.heatmap(cm, annot=True, fmt=\".0f\", ax=ax)\n",
        "plt.xlabel(\"Predicted\")\n",
        "plt.ylabel(\"Actual\")\n",
        "plt.show()"
      ],
      "execution_count": null,
      "outputs": [
        {
          "output_type": "display_data",
          "data": {
            "image/png": "[encoded data removed]",
            "text/plain": [
              "<Figure size 576x360 with 2 Axes>"
            ]
          },
          "metadata": {
            "tags": [],
            "needs_background": "light"
          }
        }
      ]
    },
    {
      "cell_type": "code",
      "metadata": {
        "id": "hiswe3h7hD_X"
      },
      "source": [
        "Acc=(tp+tn)/(tp+tn+fp+fn)\n",
        "Prec=tp/(tp+fp)\n",
        "Rec=tp/(tp+fn)\n",
        "F1=(2*Prec*Rec)/(Prec+Rec)\n",
        "Tpr=tp/(tp+fn)\n",
        "Fpr=fp/(fp+tn)"
      ],
      "execution_count": null,
      "outputs": []
    },
    {
      "cell_type": "code",
      "metadata": {
        "colab": {
          "base_uri": "https://localhost:8080/"
        },
        "id": "zGf0GcI4hJeF",
        "outputId": "e89607d5-d73a-4dae-f087-1a217cd1f27d"
      },
      "source": [
        "print(\"Akurasi : \",Acc)\n",
        "print(\"Precision : \",Prec)\n",
        "print(\"Recall : \",Rec)\n",
        "print(\"F1-Score : \",F1)\n",
        "print(\"TPR : \",Tpr)\n",
        "print(\"FPR : \",Fpr)"
      ],
      "execution_count": null,
      "outputs": [
        {
          "output_type": "stream",
          "text": [
            "Akurasi :  0.9982698629346969\n",
            "Precision :  0.9978429197912109\n",
            "Recall :  0.9994089292447542\n",
            "F1-Score :  0.9986253105779805\n",
            "TPR :  0.9994089292447542\n",
            "FPR :  0.003659589159330226\n"
          ],
          "name": "stdout"
        }
      ]
    },
    {
      "cell_type": "code",
      "metadata": {
        "colab": {
          "base_uri": "https://localhost:8080/"
        },
        "id": "p-pqKcZ9mqQF",
        "outputId": "da3109ce-c375-45a5-9b39-a2367070d453"
      },
      "source": [
        "from sklearn.metrics import average_precision_score\n",
        "average_precision = average_precision_score(y_test, y_pred)\n",
        "\n",
        "print('Average precision-recall score: {0:0.4f}'.format(\n",
        "      average_precision))"
      ],
      "execution_count": null,
      "outputs": [
        {
          "output_type": "stream",
          "text": [
            "Average precision-recall score: 0.9957\n"
          ],
          "name": "stdout"
        }
      ]
    },
    {
      "cell_type": "code",
      "metadata": {
        "colab": {
          "base_uri": "https://localhost:8080/",
          "height": 72
        },
        "id": "FQ0nHozamwOY",
        "outputId": "50e5af62-17e2-41ed-f261-0c887559e466"
      },
      "source": [
        "from sklearn.metrics import precision_recall_curve\n",
        "from sklearn.metrics import plot_precision_recall_curve\n",
        "import matplotlib.pyplot as plt\n",
        "\n",
        "disp = plot_precision_recall_curve(clf, X_test, y_test)\n",
        "disp.ax_.set_title('2-class Precision-Recall Curve: '\n",
        "                   'AP={0:0.4f}'.format(average_precision))"
      ],
      "execution_count": null,
      "outputs": [
        {
          "output_type": "execute_result",
          "data": {
            "text/plain": [
              "Text(0.5, 1.0, '2-class Precision-Recall Curve: AP=0.9957')"
            ]
          },
          "metadata": {
            "tags": []
          },
          "execution_count": 27
        },
        {
          "output_type": "display_data",
          "data": {
            "image/png": "[encoded data removed]",
            "text/plain": [
              "<Figure size 432x288 with 1 Axes>"
            ]
          },
          "metadata": {
            "tags": [],
            "needs_background": "light"
          }
        }
      ]
    },
    {
      "cell_type": "code",
      "metadata": {
        "colab": {
          "base_uri": "https://localhost:8080/",
          "height": 72
        },
        "id": "2DEuJwQFkBK1",
        "outputId": "97858e4f-5c0a-4fef-9f03-00ed2b970076"
      },
      "source": [
        "import keras\n",
        "import seaborn as sns\n",
        "from sklearn.metrics import roc_curve, auc\n",
        "\n",
        "fpr_keras,tpr_keras, threshold =roc_curve(y_test, y_pred)\n",
        "auc=auc(fpr_keras,tpr_keras)\n",
        "\n",
        "plt.figure(1)\n",
        "plt.plot([0,1],[0,1],'k--',color='red')\n",
        "plt.plot(fpr_keras, tpr_keras, label=\"ROC CURVE {0:.4f}\".format(auc))\n",
        "plt.xlabel('False Positive Rate')\n",
        "plt.ylabel('True Positive Rate')\n",
        "plt.title('ROC CURVE')\n",
        "plt.legend(loc='best')\n",
        "plt.show"
      ],
      "execution_count": null,
      "outputs": [
        {
          "output_type": "execute_result",
          "data": {
            "text/plain": [
              "<function matplotlib.pyplot.show>"
            ]
          },
          "metadata": {
            "tags": []
          },
          "execution_count": 28
        },
        {
          "output_type": "display_data",
          "data": {
            "image/png": "[encoded data removed]",
            "text/plain": [
              "<Figure size 432x288 with 1 Axes>"
            ]
          },
          "metadata": {
            "tags": [],
            "needs_background": "light"
          }
        }
      ]
    },
    {
      "cell_type": "code",
      "metadata": {
        "id": "yFstWei9s6OS"
      },
      "source": [
        "from sklearn.model_selection import learning_curve\n",
        "\n",
        "def plot_learning_curve(estimator, title, X, y, axes=None, ylim=None, cv=None,\n",
        "                        n_jobs=None, train_sizes=np.linspace(.1, 1.0, 5)):\n",
        "    \"\"\"\n",
        "    Generate 3 plots: the test and training learning curve, the training\n",
        "    samples vs fit times curve, the fit times vs score curve.\n",
        "\n",
        "    Parameters\n",
        "    ----------\n",
        "    estimator : estimator instance\n",
        "        An estimator instance implementing `fit` and `predict` methods which\n",
        "        will be cloned for each validation.\n",
        "\n",
        "    title : str\n",
        "        Title for the chart.\n",
        "\n",
        "    X : array-like of shape (n_samples, n_features)\n",
        "        Training vector, where ``n_samples`` is the number of samples and\n",
        "        ``n_features`` is the number of features.\n",
        "\n",
        "    y : array-like of shape (n_samples) or (n_samples, n_features)\n",
        "        Target relative to ``X`` for classification or regression;\n",
        "        None for unsupervised learning.\n",
        "\n",
        "    axes : array-like of shape (3,), default=None\n",
        "        Axes to use for plotting the curves.\n",
        "\n",
        "    ylim : tuple of shape (2,), default=None\n",
        "        Defines minimum and maximum y-values plotted, e.g. (ymin, ymax).\n",
        "\n",
        "    cv : int, cross-validation generator or an iterable, default=None\n",
        "        Determines the cross-validation splitting strategy.\n",
        "        Possible inputs for cv are:\n",
        "\n",
        "          - None, to use the default 5-fold cross-validation,\n",
        "          - integer, to specify the number of folds.\n",
        "          - :term:`CV splitter`,\n",
        "          - An iterable yielding (train, test) splits as arrays of indices.\n",
        "\n",
        "        For integer/None inputs, if ``y`` is binary or multiclass,\n",
        "        :class:`StratifiedKFold` used. If the estimator is not a classifier\n",
        "        or if ``y`` is neither binary nor multiclass, :class:`KFold` is used.\n",
        "\n",
        "        Refer :ref:`User Guide <cross_validation>` for the various\n",
        "        cross-validators that can be used here.\n",
        "\n",
        "    n_jobs : int or None, default=None\n",
        "        Number of jobs to run in parallel.\n",
        "        ``None`` means 1 unless in a :obj:`joblib.parallel_backend` context.\n",
        "        ``-1`` means using all processors. See :term:`Glossary <n_jobs>`\n",
        "        for more details.\n",
        "\n",
        "    train_sizes : array-like of shape (n_ticks,)\n",
        "        Relative or absolute numbers of training examples that will be used to\n",
        "        generate the learning curve. If the ``dtype`` is float, it is regarded\n",
        "        as a fraction of the maximum size of the training set (that is\n",
        "        determined by the selected validation method), i.e. it has to be within\n",
        "        (0, 1]. Otherwise it is interpreted as absolute sizes of the training\n",
        "        sets. Note that for classification the number of samples usually have\n",
        "        to be big enough to contain at least one sample from each class.\n",
        "        (default: np.linspace(0.1, 1.0, 5))\n",
        "    \"\"\"\n",
        "    if axes is None:\n",
        "        _, axes = plt.subplots(1, 3, figsize=(20, 5))\n",
        "\n",
        "    axes[0].set_title(title)\n",
        "    if ylim is not None:\n",
        "        axes[0].set_ylim(*ylim)\n",
        "    axes[0].set_xlabel(\"Training\")\n",
        "    axes[0].set_ylabel(\"Akurasi\")\n",
        "\n",
        "    train_sizes, train_scores, test_scores, fit_times, _ = \\\n",
        "        learning_curve(estimator, X, y, cv=cv, n_jobs=n_jobs,\n",
        "                       train_sizes=train_sizes,\n",
        "                       return_times=True)\n",
        "    train_scores_mean = np.mean(train_scores, axis=1)\n",
        "    train_scores_std = np.std(train_scores, axis=1)\n",
        "    test_scores_mean = np.mean(test_scores, axis=1)\n",
        "    test_scores_std = np.std(test_scores, axis=1)\n",
        "    fit_times_mean = np.mean(fit_times, axis=1)\n",
        "    fit_times_std = np.std(fit_times, axis=1)\n",
        "\n",
        "    # Plot learning curve\n",
        "    axes[0].grid()\n",
        "    axes[0].fill_between(train_sizes, train_scores_mean - train_scores_std,\n",
        "                         train_scores_mean + train_scores_std, alpha=0.1,\n",
        "                         color=\"r\")\n",
        "    axes[0].fill_between(train_sizes, test_scores_mean - test_scores_std,\n",
        "                         test_scores_mean + test_scores_std, alpha=0.1,\n",
        "                         color=\"g\")\n",
        "    axes[0].plot(train_sizes, train_scores_mean, 'o-', color=\"r\",\n",
        "                 label=\"Training\")\n",
        "    axes[0].plot(train_sizes, test_scores_mean, 'o-', color=\"g\",\n",
        "                 label=\"Testing\")\n",
        "    axes[0].legend(loc=\"best\")\n",
        "\n",
        "    # Plot n_samples vs fit_times\n",
        "    axes[1].grid()\n",
        "    axes[1].plot(train_sizes, fit_times_mean, 'o-')\n",
        "    axes[1].fill_between(train_sizes, fit_times_mean - fit_times_std,\n",
        "                         fit_times_mean + fit_times_std, alpha=0.1)\n",
        "    axes[1].set_xlabel(\"Training\")\n",
        "    axes[1].set_ylabel(\"Fit Times\")\n",
        "    axes[1].set_title(\"Scalability of the Model\")\n",
        "\n",
        "    # Plot fit_time vs akurasi\n",
        "    axes[2].grid()\n",
        "    axes[2].plot(fit_times_mean, test_scores_mean, 'o-')\n",
        "    axes[2].fill_between(fit_times_mean, test_scores_mean - test_scores_std,\n",
        "                         test_scores_mean + test_scores_std, alpha=0.1)\n",
        "    axes[2].set_xlabel(\"Fit Times\")\n",
        "    axes[2].set_ylabel(\"Akurasi\")\n",
        "    axes[2].set_title(\"Performance of the Model\")\n",
        "\n",
        "    return plt"
      ],
      "execution_count": null,
      "outputs": []
    },
    {
      "cell_type": "code",
      "metadata": {
        "colab": {
          "base_uri": "https://localhost:8080/",
          "height": 342
        },
        "id": "R391KectW1GB",
        "outputId": "b57bfc84-c1bf-49bf-b069-3e759828ad7e"
      },
      "source": [
        "title = r\"Learning Curves (SVM, Kernel Polynomial, Degree=4)\"\n",
        "plot_learning_curve(clf, title, X_train, y_train)\n",
        "\n",
        "plt.show()"
      ],
      "execution_count": null,
      "outputs": [
        {
          "output_type": "display_data",
          "data": {
            "image/png": "[encoded data removed]",
            "text/plain": [
              "<Figure size 1440x360 with 3 Axes>"
            ]
          },
          "metadata": {
            "tags": [],
            "needs_background": "light"
          }
        }
      ]
    },
    {
      "cell_type": "code",
      "metadata": {
        "colab": {
          "base_uri": "https://localhost:8080/",
          "height": 300
        },
        "id": "XmqiPUwXXFal",
        "outputId": "4d57e2ac-c531-4b45-8405-85d72b636256"
      },
      "source": [
        "print(__doc__)\n",
        "\n",
        "import numpy as np\n",
        "import matplotlib.pyplot as plt\n",
        "from sklearn import svm\n",
        "from sklearn.datasets import make_blobs\n",
        "\n",
        "\n",
        "# we create 77 separable points\n",
        "X_train, y_train = make_blobs(n_samples=77, centers=2, random_state=0)\n",
        "\n",
        "# fit the model, don't regularize for illustration purposes\n",
        "clf = svm.SVC(kernel='poly', degree=4)\n",
        "clf.fit(X_train, y_train)\n",
        "\n",
        "plt.scatter(X_train[:, 0], X_train[:, 1], c=y_train, cmap=plt.cm.Paired)\n",
        "\n",
        "# plot the decision function\n",
        "ax = plt.gca()\n",
        "xlim = ax.get_xlim()\n",
        "ylim = ax.get_ylim()\n",
        "\n",
        "# create grid to evaluate model\n",
        "xx = np.linspace(xlim[0], xlim[1])\n",
        "yy = np.linspace(ylim[0], ylim[1])\n",
        "YY, XX = np.meshgrid(yy, xx)\n",
        "xy = np.vstack([XX.ravel(), YY.ravel()]).T\n",
        "Z = clf.decision_function(xy).reshape(XX.shape)\n",
        "\n",
        "# plot decision boundary and margins\n",
        "ax.contour(XX, YY, Z, colors='k', levels=[-1, 0, 1], alpha=0.5,\n",
        "           linestyles=['--', '-', '--'])\n",
        "# plot support vectors\n",
        "ax.scatter(clf.support_vectors_[:, 0], clf.support_vectors_[:, 1], s=100,\n",
        "           linewidth=1, facecolors='none', edgecolors='k')\n",
        "plt.figure(figsize=(5,5), dpi=100) \n",
        "plt.show()"
      ],
      "execution_count": null,
      "outputs": [
        {
          "output_type": "stream",
          "text": [
            "Automatically created module for IPython interactive environment\n"
          ],
          "name": "stdout"
        },
        {
          "output_type": "display_data",
          "data": {
            "image/png": "[encoded data removed]",
            "text/plain": [
              "<Figure size 432x288 with 1 Axes>"
            ]
          },
          "metadata": {
            "tags": [],
            "needs_background": "light"
          }
        },
        {
          "output_type": "display_data",
          "data": {
            "text/plain": [
              "<Figure size 500x500 with 0 Axes>"
            ]
          },
          "metadata": {
            "tags": []
          }
        }
      ]
    },
    {
      "cell_type": "code",
      "metadata": {
        "colab": {
          "base_uri": "https://localhost:8080/",
          "height": 297
        },
        "id": "Z1eezVWsXJW5",
        "outputId": "3d084958-819f-452c-a91e-f4021bd89246"
      },
      "source": [
        "import matplotlib.pyplot as plt\n",
        "\n",
        "# Pie chart\n",
        "data = ['Normal','Botnet']\n",
        "Label = [196194,121690]\n",
        "# only \"explode\" the 2nd slice (i.e. 'Hogs')\n",
        "my_explode = (0, 0.1)\n",
        "#add colors\n",
        "colors = ['#ff9999','#66b3ff']\n",
        "fig, ax = plt.subplots()\n",
        "ax.pie(Label,\n",
        "       explode=my_explode, \n",
        "       labels=data, \n",
        "       colors=colors, \n",
        "       autopct='%1.1f%%',\n",
        "       shadow=True, \n",
        "       startangle=90)\n",
        "# Equal aspect ratio ensures that pie is drawn as a circle\n",
        "ax.axis('equal')\n",
        "plt.tight_layout()\n",
        "plt.show()"
      ],
      "execution_count": null,
      "outputs": [
        {
          "output_type": "display_data",
          "data": {
            "image/png": "[encoded data removed]",
            "text/plain": [
              "<Figure size 432x288 with 1 Axes>"
            ]
          },
          "metadata": {
            "tags": []
          }
        }
      ]
    }
  ]
}